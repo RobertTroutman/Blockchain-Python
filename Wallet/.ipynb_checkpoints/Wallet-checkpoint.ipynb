{
 "cells": [
  {
   "cell_type": "code",
   "execution_count": 1,
   "metadata": {},
   "outputs": [
    {
     "data": {
      "text/plain": [
       "True"
      ]
     },
     "execution_count": 1,
     "metadata": {},
     "output_type": "execute_result"
    }
   ],
   "source": [
    "import subprocess\n",
    "import json\n",
    "import os\n",
    "from constants import *\n",
    "from web3 import Web3\n",
    "from bit import *\n",
    "from dotenv import load_dotenv\n",
    "\n",
    "from web3.middleware import geth_poa_middleware\n",
    "from eth_account import Account\n",
    "\n",
    "from pathlib import Path\n",
    "from getpass import getpass\n",
    "\n",
    "from bit import wif_to_key, PrivateKeyTestnet\n",
    "from bit.network import NetworkAPI\n",
    "\n",
    "load_dotenv()"
   ]
  },
  {
   "cell_type": "code",
   "execution_count": 2,
   "metadata": {},
   "outputs": [
    {
     "data": {
      "text/plain": [
       "'devote easily begin inmate aim hidden donkey mention swallow budget october shell crystal collect ceiling'"
      ]
     },
     "execution_count": 2,
     "metadata": {},
     "output_type": "execute_result"
    }
   ],
   "source": [
    "mnemonic = os.getenv('Mnemonic')\n",
    "mnemonic"
   ]
  },
  {
   "cell_type": "code",
   "execution_count": 3,
   "metadata": {},
   "outputs": [],
   "source": [
    "w3 = Web3(Web3.HTTPProvider(\"http://127.0.0.1:8545\"))\n",
    "w3.middleware_onion.inject(geth_poa_middleware, layer=0)\n",
    "from web3.gas_strategies.time_based import medium_gas_price_strategy\n",
    "w3.eth.setGasPriceStrategy(medium_gas_price_strategy)"
   ]
  },
  {
   "cell_type": "code",
   "execution_count": 4,
   "metadata": {},
   "outputs": [],
   "source": [
    "def derive_wallets(Coin, Mnemonic, Numderive):\n",
    "    command = f'php hd-wallet-derive\\hd-wallet-derive.php -g --mnemonic=\"devote easily begin inmate aim hidden donkey mention swallow budget october shell crystal collect ceiling\" --numderive=5 --coin=eth --cols=path,address,privkey,pubkey --format=json'\n",
    "    print(command)\n",
    "    p = subprocess.Popen(command, stdout=subprocess.PIPE, shell=True)\n",
    "    output, err = p.communicate()\n",
    "    p_status = p.wait()\n",
    "    keys = json.loads(output)\n",
    "\n",
    "    return keys\n",
    "    "
   ]
  },
  {
   "cell_type": "code",
   "execution_count": 6,
   "metadata": {},
   "outputs": [
    {
     "name": "stdout",
     "output_type": "stream",
     "text": [
      "php hd-wallet-derive\\hd-wallet-derive.php -g --mnemonic=\"devote easily begin inmate aim hidden donkey mention swallow budget october shell crystal collect ceiling\" --numderive=5 --coin=eth --cols=path,address,privkey,pubkey --format=json\n"
     ]
    },
    {
     "data": {
      "text/plain": [
       "[{'path': \"m/44'/60'/0'/0/0\",\n",
       "  'address': '0xe5D5c87896ab758af680c67E745641d049754E97',\n",
       "  'privkey': '0x51c4b01bb574f1a3da35678f44e9bc30419c6d2ce2fd959c2dca4f70c1866eaf',\n",
       "  'pubkey': '023ef65209836479a6323e60e84e7917ebce0b163e990365bb9fb8f684fd6530dc'},\n",
       " {'path': \"m/44'/60'/0'/0/1\",\n",
       "  'address': '0x6a22D1955e6bf5774B06a7CD08eECA0b60fF30B5',\n",
       "  'privkey': '0x184d7504e39c97f0c2fdf039db44624dec97a8dd3e8df303bdb40c8b4e460d8a',\n",
       "  'pubkey': '032ca087c22fc642cabe01d2423ef49f17c82a0fd78ac2ecca90d7c7b319c0a82d'},\n",
       " {'path': \"m/44'/60'/0'/0/2\",\n",
       "  'address': '0xBE6b5B1FE8A215E77f8f26c7eF55D1A7b9D7A21C',\n",
       "  'privkey': '0xa52d5040d92fb5cf72b81d450aa1391d0adf0bc6c79d6c2b8cc638bcc9871ee9',\n",
       "  'pubkey': '024050277412b7f7f55aa272fe586c9f9253abe0799518ab6542b46529ec375f9d'},\n",
       " {'path': \"m/44'/60'/0'/0/3\",\n",
       "  'address': '0x5eEF5C82f70b70ee89Cc472a75486F4789C70390',\n",
       "  'privkey': '0x25779ba5a6d57eb4eaf466f8975ae232ea7bcd25ca5a79d5e5bb49c00e221674',\n",
       "  'pubkey': '03a75d939ed092c837a834f9b030c25ae7d1d99fcc0e4cefea457b6399d1f49fbd'},\n",
       " {'path': \"m/44'/60'/0'/0/4\",\n",
       "  'address': '0x352FE707b031eb5AD348b91395e9c633bB2a3E74',\n",
       "  'privkey': '0x93a635c6d0b939cb4bd4a98212bb3c5a6f6e54e103a1c72bb76d5be7d89fabff',\n",
       "  'pubkey': '0242bec8b77f791d9c2e2daaf0f959ce941676665b7b71d923cc13085d4bd343fd'}]"
      ]
     },
     "execution_count": 6,
     "metadata": {},
     "output_type": "execute_result"
    }
   ],
   "source": [
    "derive_wallets(ETH, mnemonic, 5)"
   ]
  },
  {
   "cell_type": "code",
   "execution_count": 7,
   "metadata": {},
   "outputs": [
    {
     "name": "stdout",
     "output_type": "stream",
     "text": [
      "php hd-wallet-derive\\hd-wallet-derive.php -g --mnemonic=\"devote easily begin inmate aim hidden donkey mention swallow budget october shell crystal collect ceiling\" --numderive=5 --coin=eth --cols=path,address,privkey,pubkey --format=json\n",
      "php hd-wallet-derive\\hd-wallet-derive.php -g --mnemonic=\"devote easily begin inmate aim hidden donkey mention swallow budget october shell crystal collect ceiling\" --numderive=5 --coin=eth --cols=path,address,privkey,pubkey --format=json\n"
     ]
    }
   ],
   "source": [
    "coins = {ETH:derive_wallets(ETH, mnemonic, 5), BTCTEST:derive_wallets(BTCTEST, mnemonic, 5)}"
   ]
  },
  {
   "cell_type": "code",
   "execution_count": 8,
   "metadata": {},
   "outputs": [],
   "source": [
    "def priv_key_to_account(coin, priv_key):\n",
    "    if coin == ETH:\n",
    "        return Account.privateKeyToAccount(priv_key)\n",
    "    if coin == BTCTEST:\n",
    "        return PrivateKeyTestnet(priv_key)"
   ]
  },
  {
   "cell_type": "code",
   "execution_count": 14,
   "metadata": {},
   "outputs": [],
   "source": [
    "ETH_key = priv_key_to_account(ETH, \"ca01aedcc1ae01d7a16f1168e48068c39b9b18f6b0493c5bb861a6d9d48d70ed\")\n",
    "\n",
    "# Create Transaction Function\n",
    "def create_tx(coin, account, recipient, amount):\n",
    "    if coin == ETH:\n",
    "        gasEstimate = w3.eth.estimateGas(\n",
    "            {\"from\": account.address, \"to\": recipient, \"value\": amount}\n",
    "        )\n",
    "        trx_data = {\n",
    "            \"to\": recipient,\n",
    "            \"from\": account.address,\n",
    "            \"value\": amount,\n",
    "            \"gasPrice\": w3.eth.gasPrice,\n",
    "            \"gas\": gasEstimate,\n",
    "            \"nonce\": w3.eth.getTransactionCount(account.address)\n",
    "        }\n",
    "        return trx_data\n",
    "\n",
    "    if coin == BTCTEST:\n",
    "        return PrivateKeyTestnet.prepare_transaction(account.address, [(recipient, amount, BTC)])"
   ]
  },
  {
   "cell_type": "code",
   "execution_count": 15,
   "metadata": {},
   "outputs": [],
   "source": [
    "# Create Send Transaction Function\n",
    "def send_tx(coin, account, recipient, amount):\n",
    "    tx = create_tx(coin, account, recipient, amount)\n",
    "    signed_tx = account.sign_transaction(tx)\n",
    "    if coin == ETH:\n",
    "        result = w3.eth.sendRawTransaction(signed_tx.rawTransaction)\n",
    "        return result.hex()\n",
    "    elif coin == BTCTEST:\n",
    "        return NetworkAPI.broadcast_tx_testnet(signed_tx)"
   ]
  },
  {
   "cell_type": "code",
   "execution_count": 16,
   "metadata": {},
   "outputs": [
    {
     "data": {
      "text/plain": [
       "'0x460e753a5e23a6df8684275e421b578ceb9cf0f3ce643eeeb851a329dcbd0ec5'"
      ]
     },
     "execution_count": 16,
     "metadata": {},
     "output_type": "execute_result"
    }
   ],
   "source": [
    "send_tx(ETH, ETH_key, \"0x3fCeA50b1b212F55985577f01E282784D1332CEb\", 2)"
   ]
  },
  {
   "cell_type": "code",
   "execution_count": 17,
   "metadata": {},
   "outputs": [
    {
     "data": {
      "text/plain": [
       "1000961889139999999998"
      ]
     },
     "execution_count": 17,
     "metadata": {},
     "output_type": "execute_result"
    }
   ],
   "source": [
    "w3.eth.get_balance(ETH_key.address)"
   ]
  },
  {
   "cell_type": "code",
   "execution_count": 18,
   "metadata": {},
   "outputs": [
    {
     "name": "stdout",
     "output_type": "stream",
     "text": [
      "0xF8037da56b3Cf2026F69fAe26adc51f67638C306\n"
     ]
    }
   ],
   "source": [
    "print(ETH_key.address)"
   ]
  },
  {
   "cell_type": "code",
   "execution_count": null,
   "metadata": {},
   "outputs": [],
   "source": []
  }
 ],
 "metadata": {
  "kernelspec": {
   "display_name": "Python 3",
   "language": "python",
   "name": "python3"
  },
  "language_info": {
   "codemirror_mode": {
    "name": "ipython",
    "version": 3
   },
   "file_extension": ".py",
   "mimetype": "text/x-python",
   "name": "python",
   "nbconvert_exporter": "python",
   "pygments_lexer": "ipython3",
   "version": "3.7.9"
  }
 },
 "nbformat": 4,
 "nbformat_minor": 5
}
